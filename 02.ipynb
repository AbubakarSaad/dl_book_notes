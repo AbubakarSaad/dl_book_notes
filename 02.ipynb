{
 "cells": [
  {
   "cell_type": "code",
   "execution_count": 1,
   "metadata": {},
   "outputs": [],
   "source": [
    "import numpy as np\n",
    "np.set_printoptions(suppress=True, precision=2)\n",
    "import matplotlib.pyplot as plt\n",
    "%matplotlib inline\n",
    "import itertools"
   ]
  },
  {
   "cell_type": "markdown",
   "metadata": {},
   "source": [
    "# Linear Algebra\n",
    "\n",
    "These are my notes for Chapter 2 of the Deep Learning book. They can also serve as a quick intro to linear algebra for deep learning.\n",
    "\n",
    "For this section I decided to make things a bit more intuitive using code, which should be appealing to the many of us who are coders first and math people second (or eighth). This means that my \"notes\" are probably on the same order of length as the chapter itself, but hopefully they are extra useful for people out there (and for myself, frankly).\n",
    "\n",
    "### Book recommendations\n",
    "\n",
    "**Recommendations from the Deep Learning book**\n",
    "- [*The Matrix Cookbook*](http://www2.imm.dtu.dk/pubdb/views/edoc_download.php/3274/pdf/imm3274.pdf) by Petersen and Pedersen, for people who need a refresher.\n",
    " - My comment: I haven't (yet) read it, but the pdf is free (linked here), so probably good to check out.\n",
    "- [*Linear Algebra*](https://www.amazon.com/Linear-Algebra-Dover-Books-Mathematics-ebook/dp/B00A73IXRC) by Shilov, for a full course.\n",
    " - My comment: I haven't (yet?) read it. Seems to be getting good reviews and very cheap (only 10 bucks). Apparently pretty dense.\n",
    " \n",
    "**My recommendations**\n",
    "- [*Essence of Linear Algebra*](https://www.youtube.com/watch?v=kjBOesZCoqc&list=PLZHQObOWTQDPD3MizzM2xVFitgF8hE_ab) by 3Blue1Brown, for building intuition.\n",
    " - This is an **amazing** youtube playlist about linear algebra. I highly recommend you watch it. A much easier option than all of the rest since it is based on videos, but won't give you as much practice.\n",
    "- [*Linear Algebra and Its Applications*](https://www.amazon.com/Linear-Algebra-Its-Applications-4th/dp/0030105676) by Strang, for a full course.\n",
    " - This was/is my main book for linear algebra. Engaging presentation and lots of applications.\n",
    " - An alternative would be [Introduction to Linear Algebra](https://www.amazon.com/Introduction-Linear-Algebra-Gilbert-Strang/dp/0980232775/ref=pd_lpo_sbs_14_t_0?_encoding=UTF8&psc=1&refRID=G2317MHW3EY2ZXNMBKN0), by the same author. My understanding is that this book is at the same time more purely mathematical but also doesn't go as far as \"and Its Applications\".\n",
    " - Strang's MIT video lectures are also available [here](https://ocw.mit.edu/courses/mathematics/18-06-linear-algebra-spring-2010/video-lectures/).\n",
    "- [*Linear Algebra Done Right*](https://www.amazon.com/Linear-Algebra-Right-Undergraduate-Mathematics/dp/0387982582) by Axler, for a full course.\n",
    " - I haven't yet read it, but I am planning to start soon. Axler supposedly takes a pretty different approach to teaching linear algebra that is more focused on pure math than on applications (so perhaps less applicable for deep learning) but also gives a different perspective on the field, which is why I'm interested in this book as a second look at linear algebra. It's supposed to be one of the best (albeit a bit controversial) books on the \n",
    "subject.\n",
    "- The end of [Calculus, Vol 1](https://www.amazon.com/Calculus-Vol-1-Tom-M-Apostol/dp/8126515198/ref=sr_1_1?s=books&ie=UTF8&qid=1520987006&sr=1-1&keywords=apostol+calculus) by Apostol and much of [Calculus, Vol 2](https://www.amazon.com/Calculus-Ii-2Nd-Tom-Apostol/dp/8126515201/ref=sr_1_3?s=books&ie=UTF8&qid=1520987006&sr=1-3&keywords=apostol+calculus), for a full course including multivariable calculus.\n",
    " - Currently reading. This is particularly useful because it puts more emphasis on the multivariable calculus aspect while at the same time teaching linear algebra. The one think that makes me sad is that the style is not nearly as engaging as in Spivak's [Calculus](https://www.amazon.com/Calculus-4th-Michael-Spivak/dp/0914098918/ref=sr_1_1?s=books&ie=UTF8&qid=1520987248&sr=1-1&keywords=spivak+calculus) (considered to be Apostol's main \"competitor\"), but sadly Spivak doesn't cover multivariable calculus nor linear algebra in any non-super-advanced book of his.\n",
    " \n",
    "## Basic objects\n",
    "\n",
    "- **Scalar**: a single number, written in italics. A scalar is a vector with a single entry.\n",
    " - A scalar in python: `x = 0.0`.\n",
    "- **Vector**: a 1D array of numbers, written in bold. You can \"access\" elements by using a subscript, eg $x_1$ is the first element of **x**. Can be thought of as a point in *n*D space where *n* is the number of entries of the vector. A vector is a matrix with a single column.\n",
    " - A vector of 10 zeros in python: `v = np.zeros(10)`\n",
    "- **Matrix**: a 2D array of numbers. Written in bold and uppercase. Accessing elements is the same as with a vector but using two subscripts, the first for the row and the second for the column, eg $\\textbf{A}_{1,2}$ is the second element of the first row. $\\textbf{A}_{1,:}$ is the entire first row. Matrices can be transposed: $\\textbf{A}^T$ is simply **A** with the columns made into rows and the rows made into columns. A matrix is a tensor that happens to have 2 dimensions.\n",
    " - A 10x7 matrix of all ones in python: `M = np.ones((10, 7))`\n",
    "- **Tensor**: a *n*D array of numbers. Indexing is the same as with a matrix or vector.\n",
    " - A 2x3x7x4 tensor of all -1 in python: `T = -np.ones((2, 3, 7, 4))`.\n",
    "\n",
    "All of these can be added to other objects of the same size (this is done elementwise) and multiplied by scalars (each element is multiplied by the scalar). The book permits \"broadcasting\", in which an object of lower dimension can be added to an object of greater dimension (eg a matrix + a vector), in this case, for example, the vector is added to each row of the matrix."
   ]
  },
  {
   "cell_type": "code",
   "execution_count": 2,
   "metadata": {},
   "outputs": [
    {
     "data": {
      "text/plain": [
       "array([[ 1. ,  0.3],\n",
       "       [ 0.1,  1.3]], dtype=float32)"
      ]
     },
     "execution_count": 2,
     "metadata": {},
     "output_type": "execute_result"
    }
   ],
   "source": [
    "# Two matrices\n",
    "A = np.array([[1, 0.3], [0.1, 1.3]], dtype=np.float32)\n",
    "A"
   ]
  },
  {
   "cell_type": "code",
   "execution_count": 3,
   "metadata": {},
   "outputs": [
    {
     "data": {
      "text/plain": [
       "array([[ 3.,  4.],\n",
       "       [ 1.,  2.]], dtype=float32)"
      ]
     },
     "execution_count": 3,
     "metadata": {},
     "output_type": "execute_result"
    }
   ],
   "source": [
    "B = np.array([[3, 4], [1, 2]], dtype=np.float32)\n",
    "B"
   ]
  },
  {
   "cell_type": "code",
   "execution_count": 4,
   "metadata": {},
   "outputs": [
    {
     "data": {
      "text/plain": [
       "array([[ 4. ,  4.3],\n",
       "       [ 1.1,  3.3]], dtype=float32)"
      ]
     },
     "execution_count": 4,
     "metadata": {},
     "output_type": "execute_result"
    }
   ],
   "source": [
    "# They can be added\n",
    "A + B"
   ]
  },
  {
   "cell_type": "code",
   "execution_count": 5,
   "metadata": {},
   "outputs": [
    {
     "data": {
      "text/plain": [
       "array([[ 3. ,  0.9],\n",
       "       [ 0.3,  3.9]], dtype=float32)"
      ]
     },
     "execution_count": 5,
     "metadata": {},
     "output_type": "execute_result"
    }
   ],
   "source": [
    "# Multiplied by a scalar\n",
    "3 * A"
   ]
  },
  {
   "cell_type": "code",
   "execution_count": 6,
   "metadata": {},
   "outputs": [
    {
     "data": {
      "text/plain": [
       "array([[ 2. ,  3.3],\n",
       "       [ 1.1,  4.3]])"
      ]
     },
     "execution_count": 6,
     "metadata": {},
     "output_type": "execute_result"
    }
   ],
   "source": [
    "# Can add a vector\n",
    "A + np.array([1, 3])"
   ]
  },
  {
   "cell_type": "markdown",
   "metadata": {},
   "source": [
    "## Multiplication\n",
    "\n",
    "### Dot product\n",
    "Unlike to the authors, I like to think of the dot product first and of matrix multiplication second, so let's define the dot product first:\n",
    "\n",
    "The dot product of two *vectors* that we can call *a* and *b* can be obtained by first multiplying the each element of *a* by the corresponding element of *b* and then by taking the sum of the result. In mathematical notation, it becomes (if $n$ is the number of elements in both *a* and *b*):\n",
    "$$a \\cdot b = \\sum_{i=1}^n a_i b_i$$\n",
    "\n",
    "In python, we can either implement it directly by using multiplication and sum, or simply use the `.dot` function."
   ]
  },
  {
   "cell_type": "code",
   "execution_count": 7,
   "metadata": {},
   "outputs": [
    {
     "name": "stdout",
     "output_type": "stream",
     "text": [
      "Our implementation: -9.0\n",
      "Np's implementation: -9.0\n"
     ]
    }
   ],
   "source": [
    "a = np.array([3, 6], dtype=np.float32)\n",
    "b = np.array([1, -2], dtype=np.float32)\n",
    "# Full implementation:\n",
    "print('Our implementation:', np.sum(a * b))\n",
    "# The function that already exists in numpy:\n",
    "print('Np\\'s implementation:', np.dot(a, b))"
   ]
  },
  {
   "cell_type": "markdown",
   "metadata": {},
   "source": [
    "### Matrix multiplication\n",
    "\n",
    "To multiply matrix **A** and **B** into a matrix **C**, we simply make it so that each entry $\\textbf{C}_{i,j}$ is the dot product of row i of **A** and column j of **B**, so we have, for all possible i and j:\n",
    "$$C_{i,j} = A_{i,:} \\cdot B_{:,j}$$\n",
    "\n",
    "This means that the length of every row of **A** must be the same as the length of every column of **B**, in other words that the number of columns of **A** is equal to the number of rows in **B**. **C** will have the same number of rows as **A** and the same number of columns as **B**. In other words, if **A** is of size m x n and **B** is of size n x k the multiplication is valid and **C** is of size m x k.\n",
    "\n",
    "Often, **A** and **B** will both be \"square\" (meaning they have the same number of rows and columns), in which case **C** will have the same size as both of them.\n",
    "\n",
    "Because matrix multiplication is so similar to the dot product, it is implemented using the `.dot` function in numpy as well.\n",
    "\n",
    "In fact, you could even say that the vector dot product is the same as the multiplication of a matrix with only one row with a matrix with only one column, and indeed this is why the notation used by the book for the vector dot product is not $a \\cdot b$ but $a^T b$."
   ]
  },
  {
   "cell_type": "code",
   "execution_count": 8,
   "metadata": {},
   "outputs": [
    {
     "data": {
      "text/plain": [
       "array([[ 3.3,  4.6],\n",
       "       [ 1.6,  3. ]], dtype=float32)"
      ]
     },
     "execution_count": 8,
     "metadata": {},
     "output_type": "execute_result"
    }
   ],
   "source": [
    "# Python matrix product\n",
    "np.dot(A, B)"
   ]
  },
  {
   "cell_type": "code",
   "execution_count": 9,
   "metadata": {},
   "outputs": [
    {
     "data": {
      "text/plain": [
       "array([[ 3.3,  4.6],\n",
       "       [ 1.6,  3. ]])"
      ]
     },
     "execution_count": 9,
     "metadata": {},
     "output_type": "execute_result"
    }
   ],
   "source": [
    "# Our own implementation of matrix product\n",
    "def matrix_prod(M1, M2):\n",
    "    C = np.zeros((M1.shape[0], M2.shape[1]))\n",
    "    for i in range(M1.shape[0]):\n",
    "        for j in range(M2.shape[1]):\n",
    "            C[i, j] = np.dot(M1[i, :], M2[:, j])\n",
    "    return C\n",
    "\n",
    "matrix_prod(A, B)"
   ]
  },
  {
   "cell_type": "markdown",
   "metadata": {},
   "source": [
    "Matrix multiplication is *not* commutative, ie\n",
    "$$BA \\neq AB$$\n",
    "Proof:"
   ]
  },
  {
   "cell_type": "code",
   "execution_count": 10,
   "metadata": {},
   "outputs": [
    {
     "name": "stdout",
     "output_type": "stream",
     "text": [
      "AB = \n",
      "[[ 3.3  4.6]\n",
      " [ 1.6  3. ]]\n",
      "BA =\n",
      "[[ 3.4  6.1]\n",
      " [ 1.2  2.9]]\n"
     ]
    }
   ],
   "source": [
    "print('AB = ')\n",
    "print(A.dot(B))\n",
    "print('BA =')\n",
    "print(B.dot(A))"
   ]
  },
  {
   "cell_type": "markdown",
   "metadata": {
    "collapsed": true
   },
   "source": [
    "This seems to tell us everything we need to know about matrix multiplication, but there are actually a couple other important things to note before we move on.\n",
    "\n",
    "First, we viewed matrix multiplication on an entry-by-entry basis, and this is how the Deep Learning book (and most everybody else) presents it. However, it is sometimes useful to see matrix multiplication as involving either entire columns or entire rows! I will not go into details here, but Gilbert Strang explains this concept in his MIT OCW course, you can see his full explanation of matrix multiplication including the \"entire columns\" and \"entire rows\" aspects here:\n",
    "https://youtu.be/FX4C-JpTFgY?t=43s\n",
    "\n",
    "Secondly, since we've already talked about transposes, it is interesting to ask what the transpose of a multiplication is. As it turns out, transposing the result of a matrix multiplication is the same as multiplying the original transposed matrices in *reverse* order, or, in math:\n",
    "$$(AB)^T = B^T A^T$$\n",
    "\n",
    "In code:"
   ]
  },
  {
   "cell_type": "code",
   "execution_count": 11,
   "metadata": {},
   "outputs": [
    {
     "name": "stdout",
     "output_type": "stream",
     "text": [
      "(AB)^T =\n",
      "[[ 3.3  1.6]\n",
      " [ 4.6  3. ]]\n",
      "B^T A^T = \n",
      "[[ 3.3  1.6]\n",
      " [ 4.6  3. ]]\n"
     ]
    }
   ],
   "source": [
    "print('(AB)^T =')\n",
    "print(A.dot(B).transpose())\n",
    "print('B^T A^T = ')\n",
    "print(B.transpose().dot(A.transpose()))"
   ]
  },
  {
   "cell_type": "markdown",
   "metadata": {},
   "source": [
    "Finally, note that there is a huge difference between matrix multiplication and **element-wise** multiplication of two matrices. In the element-wise product, we simply multiply each element in one matrix by the corresponding element in the other, whereas in matrix multiplication, we use the dot product of a row and a vector.\n",
    "\n",
    "In numpy, matrix multiplication is implemented using the `.dot` function whereas you can perform element-wise multiplication using the `*` operator. In the book's math notation, element-wise multiplication is represented by $\\odot$, though other operators are used by others. Matrix multiplication can just be represented by stringing the matrices together."
   ]
  },
  {
   "cell_type": "code",
   "execution_count": 12,
   "metadata": {},
   "outputs": [
    {
     "name": "stdout",
     "output_type": "stream",
     "text": [
      "A⊙B =\n",
      "[[ 3.   1.2]\n",
      " [ 0.1  2.6]]\n",
      "AB =\n",
      "[[ 3.3  4.6]\n",
      " [ 1.6  3. ]]\n"
     ]
    }
   ],
   "source": [
    "print('A⊙B =')\n",
    "print(A * B)\n",
    "print('AB =')\n",
    "print(A.dot(B))"
   ]
  },
  {
   "cell_type": "markdown",
   "metadata": {},
   "source": [
    "# Inverses"
   ]
  },
  {
   "cell_type": "markdown",
   "metadata": {},
   "source": [
    "The matrix **I** has a very important property: multiplying it with any other matrix does nothing at all! It is simply a matrix with 0s everywhere and 1s on the diagonal going from the upper left to the lower right. In python, it is always possible to create an identity matrix of a given size using the `np.eye` function (**I** -> eye, get it?).\n",
    "\n",
    "**I** is basically the equivalent of 1 in the matrix world (since multiplying by 1 does nothing to ordinary numbers)."
   ]
  },
  {
   "cell_type": "code",
   "execution_count": 13,
   "metadata": {},
   "outputs": [
    {
     "data": {
      "text/plain": [
       "array([[ 1.,  0.,  0.],\n",
       "       [ 0.,  1.,  0.],\n",
       "       [ 0.,  0.,  1.]])"
      ]
     },
     "execution_count": 13,
     "metadata": {},
     "output_type": "execute_result"
    }
   ],
   "source": [
    "np.eye(3)"
   ]
  },
  {
   "cell_type": "markdown",
   "metadata": {},
   "source": [
    "Most (but not all) square matrices have a special matrix called an \"inverse\", represented with a -1 superscript like so: $A^{-1}$. The inverse of a matrix functions very much like the inverse of a number, in that multiplying a matrix by its inverse gives the identity function (just like multiplying a number by its inverse gives 1). Basically, multiplying by the inverse of a matrix is very similar to *dividing* by that matrix. So:\n",
    "$$A^{-1} A = A A^{-1} = I$$\n",
    "\n",
    "You can get the inverse of a matrix in numpy using `np.linalg.inv`.\n",
    "\n",
    "Inverses can help us solve equations using matrices! Suppose we have a the following equation:\n",
    "$$Ax = b$$\n",
    "\n",
    "So a matrix A multiplies an unknown vector x to get a known vector b, what is the x that makes this possible?\n",
    "\n",
    "Using the inverse we get:\n",
    "$$A^{-1}Ax = A^{-1}b$$\n",
    "$$x = A^{-1}b$$\n",
    "\n",
    "And we can now compute x!"
   ]
  },
  {
   "cell_type": "code",
   "execution_count": 14,
   "metadata": {},
   "outputs": [
    {
     "name": "stdout",
     "output_type": "stream",
     "text": [
      "A =\n",
      "[[ 1.   0.3]\n",
      " [ 0.1  1.3]]\n",
      "\n",
      "A^-1 = \n",
      "[[ 1.02 -0.24]\n",
      " [-0.08  0.79]]\n",
      "\n",
      "A^-1 A = A A^-1 = I\n",
      "[[ 1. -0.]\n",
      " [-0.  1.]]\n",
      "[[ 1.  0.]\n",
      " [-0.  1.]]\n",
      "\n",
      "b =\n",
      "[ 1. -2.]\n",
      "\n",
      "x =\n",
      "[ 1.5  -1.65]\n",
      "Ax = b\n",
      "[ 1. -2.]\n"
     ]
    }
   ],
   "source": [
    "# We show A as a reminder\n",
    "print('A =')\n",
    "print(A)\n",
    "\n",
    "# A's inverse\n",
    "print('\\nA^-1 = ')\n",
    "print(np.linalg.inv(A))\n",
    "\n",
    "# Confirm that we get I when we multiply by the inverse\n",
    "print('\\nA^-1 A = A A^-1 = I')\n",
    "print(np.linalg.inv(A).dot(A))\n",
    "print(A.dot(np.linalg.inv(A)))\n",
    "\n",
    "# Show b as a reminder\n",
    "print('\\nb =')\n",
    "print(b)\n",
    "\n",
    "# Compute x\n",
    "print('\\nx =')\n",
    "x = np.linalg.inv(A).dot(b)\n",
    "print(x)\n",
    "\n",
    "# Confirm that Ax = b\n",
    "print('Ax = b')\n",
    "print(A.dot(x))"
   ]
  },
  {
   "cell_type": "markdown",
   "metadata": {},
   "source": [
    "Not all matrices have inverses! Next we will see why."
   ]
  },
  {
   "cell_type": "code",
   "execution_count": 15,
   "metadata": {},
   "outputs": [
    {
     "name": "stdout",
     "output_type": "stream",
     "text": [
      "[[1 2]\n",
      " [2 4]]\n",
      "There was an error: Singular matrix\n"
     ]
    }
   ],
   "source": [
    "try:\n",
    "    bad_matrix = np.array([[1, 2], [2, 4]])\n",
    "    print(bad_matrix)\n",
    "    print(np.linalg.inv(bad_matrix))\n",
    "except Exception as e:\n",
    "    print('There was an error:', str(e))"
   ]
  },
  {
   "cell_type": "markdown",
   "metadata": {},
   "source": [
    "## Spans"
   ]
  },
  {
   "cell_type": "markdown",
   "metadata": {},
   "source": [
    "Let's explore why our bad matrix couldn't be inverted before. For this, the easiest way is to introduce a geometrical way of thinking about matrices and vectors. I highly recommend watching 3Blue1Brown's videos (see resources above) to gain full intuition on this.\n",
    "\n",
    "You can think of any vector as a point in space. With a 2D vector this is simple, the first component is its location on the X axis and the second on the Y axis. With 3D things are still relatively familiar, just add a Z axis. With more dimensions, the vector is *still* a point in space, even though you can't imagine it.\n",
    "\n",
    "> To deal with a 14-dimensional space, visualize a 3-D space and say 'fourteen' to yourself very loudly. Everyone does it.\n",
    "\n",
    "> *Geoffrey Hinton*\n",
    "\n",
    "A matrix multiplication takes a point in space and moves it to another point in space, that's all it does. \n",
    "\n",
    "Viewing this this way, we can say that a matrix inverse takes a point that (conceptually at least) has been moved by the original matrix and finds *the original location* of that point (before it was moved).\n",
    "\n",
    "The problem is: do all matrices map every point to a single other point? What if a matrix map several source points to the same destination point? What if it never maps any point to a given destination? In either case, we can't have an inverse!\n",
    "\n",
    "In our non-invertible matrix, both of these problems occur! There are at least two different vectors x that map to the point [0, 0], as we show in code below, and yet there is no way to get to the point [1, 1] (try it!)"
   ]
  },
  {
   "cell_type": "code",
   "execution_count": 16,
   "metadata": {},
   "outputs": [
    {
     "name": "stdout",
     "output_type": "stream",
     "text": [
      "[0 0]\n",
      "[0 0]\n"
     ]
    }
   ],
   "source": [
    "print(bad_matrix.dot([2, -1]))\n",
    "print(bad_matrix.dot([-2, 1]))"
   ]
  },
  {
   "cell_type": "markdown",
   "metadata": {},
   "source": [
    "To understand this, let's visualize the way the two matrices transform different points. We'll represent the points using a grid:"
   ]
  },
  {
   "cell_type": "code",
   "execution_count": 17,
   "metadata": {},
   "outputs": [
    {
     "data": {
      "image/png": "[encoded data removed]",
      "text/plain": [
       "<matplotlib.figure.Figure at 0x1fbb2c79c18>"
      ]
     },
     "metadata": {},
     "output_type": "display_data"
    },
    {
     "data": {
      "image/png": "[encoded data removed]",
      "text/plain": [
       "<matplotlib.figure.Figure at 0x1fbb4cdbdd8>"
      ]
     },
     "metadata": {},
     "output_type": "display_data"
    },
    {
     "data": {
      "image/png": "[encoded data removed]",
      "text/plain": [
       "<matplotlib.figure.Figure at 0x1fbb4e68400>"
      ]
     },
     "metadata": {},
     "output_type": "display_data"
    }
   ],
   "source": [
    "values = list(range(-5, 6))\n",
    "x, y = np.meshgrid(values, values)\n",
    "x = x.flatten()\n",
    "y = y.flatten()\n",
    "points = np.array([x, y])\n",
    "\n",
    "plt.plot(points[0, :], points[1, :], 'o')\n",
    "plt.title('Original Grid')\n",
    "plt.show()\n",
    "\n",
    "transformed = A.dot(points)\n",
    "plt.plot(transformed[0, :], transformed[1, :], 'o')\n",
    "plt.title('Transformed by A')\n",
    "plt.show()\n",
    "\n",
    "transformed = bad_matrix.dot(points)\n",
    "plt.plot(transformed[0, :], transformed[1, :], 'o')\n",
    "plt.title('Transformed by bad_matrix')\n",
    "plt.show()"
   ]
  },
  {
   "cell_type": "markdown",
   "metadata": {},
   "source": [
    "So it turns out that our bad matrix projects the entire grid onto a line, whereas A just tilts things around a little bit. This means that any point outside of the line cannot have been created by bad matrix, and thus an inverse cannot exist! (and as we saw before, several points in 2D can give us the same point on the line, which is also a problem).\n",
    "\n",
    "This line is the **span** of our bad matrix (the set of all values it can map to). By contrast, the span of A is the entire plane, as can be guessed from the fact that it's only slightly shearing the grid.\n",
    "\n",
    "As it turns out, matrices can only ever span linear spaces such as points, lines, planes and hyperplanes (a plane in more than 2 dimensions). Further, all these spaces always have to contain the point at the origin, since multiplying any matrix by the 0 vector always gives the 0 vector. Only matrices that span the entire space they are in have an inverse.\n",
    "\n",
    "If we look more closely at our bad matrix, we notice something strange about its columns: the second column ([2, 4]) is exactly twice the first column ([1, 2])! As it turns out, this is exactly why our matrix doesn't span the whole space!\n",
    "\n",
    "Multiplying a matrix and a vector can be thought of combining the columns of the matrix based on the elements of the vector, so if I multiply a matrix M by the vector [1, 2, 3, 4], the final vector is 1 times the first column of M plus 2 times the second column of M and so on. So whenever we multiply our bad matrix with a vector, the result can only ever be a multiple of the vector [1, 2], which indeed forms a line!\n",
    "\n",
    "A set of vectors is called \"dependent\" if it is possible to generate one of the vectors by multiplying and adding some of the other vectors (in our case, just multiplying). If the columns of a matrix are dependent, the matrix doesn't span the whole space and can't be inverted.\n",
    "\n",
    "Also note that if the columns of a matrix are dependent, its rows are also dependent, and vice-versa. We won't prove this here."
   ]
  },
  {
   "cell_type": "markdown",
   "metadata": {},
   "source": [
    "## Norms"
   ]
  },
  {
   "cell_type": "markdown",
   "metadata": {},
   "source": [
    "Norms are a measure of the **length** of a vector. The most common types of norms are called the Lp norms, and they are of the form:\n",
    "$$||x||_p = \\sqrt[p]{\\sum_i |x_i|^p}$$\n",
    "\n",
    "The most common Lp norms are the L1, L2 and $L_\\infty$ norms, which you might already know under the names of *Mahnattan distance* (the distance to go from the origin to the tip of the vector, if you can only move along an axis), *Euclidian distance* (the distance to go from the origin to the tip if you can go in any direction you want) and *maximum* (of the absolute values), respectively.\n",
    "\n",
    "$L_\\infty$ might seem like a weird name, but it is actually simply what happens as p reaches infinity.\n",
    "\n",
    "You can access the norms using `np.linalg.norm`."
   ]
  },
  {
   "cell_type": "code",
   "execution_count": 18,
   "metadata": {},
   "outputs": [
    {
     "name": "stdout",
     "output_type": "stream",
     "text": [
      "Vector: [ 3 -4]\n",
      "L1: 7.0\n",
      "L2: 5.0\n",
      "L inf 4.0\n",
      "\n",
      "Increasing p gets us closer to L inf\n",
      "L3 4.49794144528\n",
      "L10 4.02197414982\n",
      "L30 4.00002380889\n",
      "...\n"
     ]
    }
   ],
   "source": [
    "v = np.array([3, -4])\n",
    "print('Vector:', v)\n",
    "print('L1:', np.linalg.norm(v, 1))\n",
    "print('L2:', np.linalg.norm(v, 2))\n",
    "print('L inf', np.linalg.norm(v, float('inf')))\n",
    "\n",
    "print('\\nIncreasing p gets us closer to L inf')\n",
    "print('L3', np.linalg.norm(v, 3.0))\n",
    "print('L10', np.linalg.norm(v, 10.0))\n",
    "print('L30', np.linalg.norm(v, 30.0))\n",
    "print('...')"
   ]
  },
  {
   "cell_type": "markdown",
   "metadata": {},
   "source": [
    "Finally note that we can measure a matrix using the same norms, but that sometimes people call norms on matrices differently! In particular, the **Frobenius** norm is simply the L2 norm applied to a matrix. Remember to use that word if you want to sound smart."
   ]
  },
  {
   "cell_type": "markdown",
   "metadata": {},
   "source": [
    "## Special matrices\n"
   ]
  },
  {
   "cell_type": "markdown",
   "metadata": {},
   "source": [
    "- **Diagonal matrix**: only has non-zero entries on its upper left to lower right diagonal (the other diagonal doesn't count!)\n",
    " - Numpy can create a diagonal from a vector using `np.diag`."
   ]
  },
  {
   "cell_type": "code",
   "execution_count": 19,
   "metadata": {},
   "outputs": [
    {
     "data": {
      "text/plain": [
       "array([[1, 0, 0, 0],\n",
       "       [0, 2, 0, 0],\n",
       "       [0, 0, 3, 0],\n",
       "       [0, 0, 0, 4]])"
      ]
     },
     "execution_count": 19,
     "metadata": {},
     "output_type": "execute_result"
    }
   ],
   "source": [
    "np.diag([1, 2, 3, 4])"
   ]
  },
  {
   "cell_type": "markdown",
   "metadata": {},
   "source": [
    "- **Symmetric matrix**: equal to its own transpose (the entries are symmetric across the up-left to down-right diagonal).\n",
    " - A matrix times its transpose is always symmetric."
   ]
  },
  {
   "cell_type": "code",
   "execution_count": 20,
   "metadata": {},
   "outputs": [
    {
     "data": {
      "text/plain": [
       "array([[25, 15,  4],\n",
       "       [15, 10,  3],\n",
       "       [ 4,  3, 17]])"
      ]
     },
     "execution_count": 20,
     "metadata": {},
     "output_type": "execute_result"
    }
   ],
   "source": [
    "np.random.seed(1)\n",
    "M = np.random.randint(0, 5, size=(3, 3))\n",
    "M.dot(M.transpose())"
   ]
  },
  {
   "cell_type": "markdown",
   "metadata": {},
   "source": [
    "- **Unit vector**: a vector whose L2 norm is 1.\n",
    " - You can make a vector into a unit vector by dividing by its L2 norm."
   ]
  },
  {
   "cell_type": "code",
   "execution_count": 21,
   "metadata": {},
   "outputs": [
    {
     "name": "stdout",
     "output_type": "stream",
     "text": [
      "[ 1. -2.] 2.23607\n",
      "[ 0.45 -0.89] 1.0\n"
     ]
    }
   ],
   "source": [
    "print(b, np.linalg.norm(b))\n",
    "bnorm = b / np.linalg.norm(b)\n",
    "print(bnorm, np.linalg.norm(bnorm))"
   ]
  },
  {
   "cell_type": "markdown",
   "metadata": {},
   "source": [
    "- **Orthogonal vectors**: two vectors whose dot product is 0.\n",
    " - [0, 0] is orthogonal to every vector. Non-zero orthogonal vectors are perpendicular."
   ]
  },
  {
   "cell_type": "code",
   "execution_count": 22,
   "metadata": {},
   "outputs": [
    {
     "data": {
      "image/png": "[encoded data removed]",
      "text/plain": [
       "<matplotlib.figure.Figure at 0x1fbb4c940f0>"
      ]
     },
     "metadata": {},
     "output_type": "display_data"
    },
    {
     "name": "stdout",
     "output_type": "stream",
     "text": [
      "Dot product = 0.0\n"
     ]
    }
   ],
   "source": [
    "c = np.array([-4, -2])\n",
    "plt.quiver([0, 0], [0, 0], [b[0], c[0]], [b[1], c[1]], angles='xy', scale_units='xy', scale=1)\n",
    "plt.xlim(-4.3, 4.3)\n",
    "plt.ylim(-4.3, 4.3)\n",
    "plt.gca().set_aspect('equal', adjustable='box')\n",
    "plt.title('Two orthogonal vectors')\n",
    "plt.show()\n",
    "print('Dot product =', b.dot(c))"
   ]
  },
  {
   "cell_type": "markdown",
   "metadata": {},
   "source": [
    "- **Orthonormal vectors**: two unit vectors who are also orthogonal.\n"
   ]
  },
  {
   "cell_type": "code",
   "execution_count": 23,
   "metadata": {},
   "outputs": [
    {
     "data": {
      "image/png": "[encoded data removed]",
      "text/plain": [
       "<matplotlib.figure.Figure at 0x1fbb4e71860>"
      ]
     },
     "metadata": {},
     "output_type": "display_data"
    },
    {
     "name": "stdout",
     "output_type": "stream",
     "text": [
      "Dot product = 0.0\n"
     ]
    }
   ],
   "source": [
    "cnorm = c / np.linalg.norm(c)\n",
    "plt.quiver([0, 0], [0, 0], [bnorm[0], cnorm[0]], [bnorm[1], cnorm[1]], angles='xy', scale_units='xy', scale=1)\n",
    "plt.xlim(-1.3, 1.3)\n",
    "plt.ylim(-1.3, 1.3)\n",
    "plt.gca().set_aspect('equal', adjustable='box')\n",
    "plt.title('Two orthonormal vectors')\n",
    "plt.show()\n",
    "print('Dot product =', bnorm.dot(cnorm))"
   ]
  },
  {
   "cell_type": "markdown",
   "metadata": {},
   "source": [
    "- **Orthogonal matrix**: a matrix whose columns (and rows) are mutually ortho**normal** (yes, it is called ortho**gonal** but it is made up of ortho**normal** vectors). Amazing property: the transpose of an orthogonal matrix is its own inverse!!!"
   ]
  },
  {
   "cell_type": "code",
   "execution_count": 24,
   "metadata": {},
   "outputs": [
    {
     "name": "stdout",
     "output_type": "stream",
     "text": [
      "An orthogonal matrix\n",
      "[[ 0.45 -0.89]\n",
      " [-0.89 -0.45]]\n",
      "Its transpose is its inverse\n",
      "[[ 1.  0.]\n",
      " [ 0.  1.]]\n"
     ]
    }
   ],
   "source": [
    "ortho = np.array([bnorm, cnorm])\n",
    "print('An orthogonal matrix')\n",
    "print(ortho)\n",
    "print('Its transpose is its inverse')\n",
    "print(ortho.dot(ortho.transpose()))"
   ]
  },
  {
   "cell_type": "markdown",
   "metadata": {},
   "source": [
    "## Eigen-stuff\n",
    "\n",
    "The word \"eigen\" can seem scary, so I like to mentally replace it with \"special\" (that's not what the word actually means in German, but it's good enough for our purposes). So whenever I write \"eigenvector\" or \"eigenvalue\", replace it with \"special vector\" and \"special value\".\n",
    "\n",
    "So how are these vectors and values special? The eigenvectors are special because they only get **stretched** when they are multiplied by the matrix (ie their direction doesn't change, only their length, and they might also be going \"backwards\" if they are stretched by a negative amount). The eigenvalues is the amount by which the vectors are stretched.\n",
    "\n",
    "Eigen-stuff is accessible in numpy through `np.linalg.eig`. Let's look at what they do. Below the black vector is always the original one and the red vector is the transformed one."
   ]
  },
  {
   "cell_type": "code",
   "execution_count": 64,
   "metadata": {},
   "outputs": [
    {
     "data": {
      "image/png": "[encoded data removed]",
      "text/plain": [
       "<matplotlib.figure.Figure at 0x1fbb5305828>"
      ]
     },
     "metadata": {},
     "output_type": "display_data"
    },
    {
     "data": {
      "image/png": "[encoded data removed]",
      "text/plain": [
       "<matplotlib.figure.Figure at 0x1fbb6391400>"
      ]
     },
     "metadata": {},
     "output_type": "display_data"
    },
    {
     "data": {
      "image/png": "[encoded data removed]",
      "text/plain": [
       "<matplotlib.figure.Figure at 0x1fbb5305518>"
      ]
     },
     "metadata": {},
     "output_type": "display_data"
    }
   ],
   "source": [
    "def eig_show(v, title):\n",
    "    dest = B.dot(v)\n",
    "    plt.quiver([0, 0], [0, 0], [v[0], dest[0]], [v[1], dest[1]], angles='xy', scale_units='xy', scale=1, color=['k', 'r'])\n",
    "    plt.xlim(min(v[0], dest[0], 0) - 0.3, max(v[0], dest[0], 0) + 0.3)\n",
    "    plt.ylim(min(v[1], dest[1], 0) - 0.3, max(v[1], dest[1], 0) + 0.3)\n",
    "    plt.gca().set_aspect('equal', adjustable='box')\n",
    "    plt.title(title)\n",
    "    plt.show()    \n",
    "\n",
    "eig_show([1, 1], 'Non-eigenvector transformation')\n",
    "    \n",
    "diag, V = np.linalg.eig(B)\n",
    "eig_show(V[:, 0], f'First eigenvector (lambda = {diag[0]:.2f})')\n",
    "eig_show(V[:, 1], f'Second eigenvector (lambda = {diag[1]:.2f})')"
   ]
  },
  {
   "cell_type": "markdown",
   "metadata": {},
   "source": [
    "Here we see that the first (arbitrary) vector is not just stretched, but also slightly rotated by the matrix, so it clearly isn't an eigenvector. We compute the eigenvectors and show how they get transformed and indeed they do not change direction! We also see that in the first case the transformed vector is much longer than the original vector, and in the second case it is much shorter, so the amount of stretching is per-vector.\n",
    "\n",
    "Now the two important questions are:\n",
    "- Does every matrix have eigenvectors and eigenvalues, and if so how many?\n",
    "- What is the point of all of this?\n",
    "\n",
    "The answer for the first question is... sorta. Given the definition we have given so far, the answer should be an emphatic \"no\", because there exist *rotation* matrices, which always rotate a given vector. Since we have defined eigenvectors as \"vectors that don't get rotated when they are multiplied with the matrix\" and since rotation matrices rotate every vector, they should not have any eigenvectors. However, if you call `np.linalg.eig` on a rotation matrix such as \\[\\[0, -1\\], \\[1, 0\\]\\] (which rotates vectors by 90 degrees), you will find that it won't error out! The reason is that if you use *complex* eigenvalues and eigenvectors, you can find eigen-stuff for every possible matrix. \n",
    "\n",
    "Having to deal with complex numbers is not very convenient, of course. Thankfully, many of the matrices we'll encounter in practice will have real eigenvalues and eigenvectors.\n",
    "\n",
    "Now as to what the point of all this is. It so happens that we can decompose a matrix using its eigenvectors. Specifically, if we have a matrix A, we can put all its eigenvectors in the columns of a matrix V and all its eigenvalues along the diagonal of a diagonal matrix $\\Lambda$ and we find that:\n",
    "$$A = V \\Lambda V^{-1}$$\n",
    "\n",
    "An important way in which this is useful is that it allows us to multiply a matrix with itself repeatedly very efficiently: when we multiply A with itself, the $V^{-1}$ of the leftmost decomposition cancels out the $V$ of the rightmost decomposition, and we end up with:\n",
    "$$A^n = V \\Lambda^n V^{-1}$$\n",
    "\n",
    "Because $\\Lambda$ is a diagonal matrix, taking it to a power simply involves taking each of its elements to that power, which is much faster than doing a lot of matrix multiplications."
   ]
  },
  {
   "cell_type": "code",
   "execution_count": 69,
   "metadata": {
    "scrolled": true
   },
   "outputs": [
    {
     "name": "stdout",
     "output_type": "stream",
     "text": [
      "Original B\n",
      "[[ 3.  4.]\n",
      " [ 1.  2.]]\n",
      "Reconstructed B\n",
      "[[ 3.  4.]\n",
      " [ 1.  2.]]\n"
     ]
    }
   ],
   "source": [
    "print('Original B')\n",
    "print(B)\n",
    "print('Reconstructed B')\n",
    "print(V.dot(np.diag(diag)).dot(np.linalg.inv(V)))"
   ]
  },
  {
   "cell_type": "markdown",
   "metadata": {},
   "source": [
    "Finally we should note that for all **symmetric** matrices, the eigenvector matrix is orthogonal, which means that its transpose is its own inverse, so we get:\n",
    "$$A = Q \\Lambda Q^T$$\n",
    "\n",
    "If A is symmetric, which is particularly useful."
   ]
  },
  {
   "cell_type": "markdown",
   "metadata": {},
   "source": [
    "## SVD and pseudoinverse\n",
    "\n",
    "In the previous section we found that eigenvalues were convenient but sadly didn't apply to all matrices: specifically, for some real square matrices they required the use of complex numbers, and they of course don't work at all for non-square matrices.\n",
    "\n",
    "Singular value decomposition (SVD) tries to solve this problem by providing a decomposition with two orthogonal matrices (U and V) and one diagonal matrix (D), such that:\n",
    "$$A = UDV^T$$\n",
    "\n",
    "The book does not go into many details about the uses of SVD (though there are many) except for finding the Moore-Penrose pseudoinverse.\n",
    "\n",
    "SVD can be accessed using `np.linalg.svd`."
   ]
  },
  {
   "cell_type": "code",
   "execution_count": 89,
   "metadata": {},
   "outputs": [
    {
     "name": "stdout",
     "output_type": "stream",
     "text": [
      "Original\n",
      "[[ 1.  1.]\n",
      " [ 3.  1.]\n",
      " [-1.  4.]]\n",
      "Reconstructed\n",
      "[[ 1.  1.]\n",
      " [ 3.  1.]\n",
      " [-1.  4.]]\n"
     ]
    }
   ],
   "source": [
    "rect = np.array([[1, 1], [3, 1], [-1, 4]], dtype=np.float32)\n",
    "print('Original')\n",
    "print(rect)\n",
    "U, diag, V = np.linalg.svd(rect, full_matrices=True)\n",
    "D = np.zeros((3, 2))\n",
    "D[:2, :2] = np.diag(diag)\n",
    "print('Reconstructed')\n",
    "print(U.dot(D).dot(V.transpose()))"
   ]
  },
  {
   "cell_type": "markdown",
   "metadata": {},
   "source": [
    "The Moore-Penrose pseudoinverse can be computed using SVD. How doesn't matter too much here, the point is what it can do: basically it can find the an \"inverse\" for non-invertible matrices. Of course, because they are not invertible, the \"inverse\" will lack some properties, but it will still be quite useful.\n",
    "\n",
    "As you might recal, the inverse was useful for solving equations like:\n",
    "$$Ax = b$$\n",
    "In which case you could find x using:\n",
    "$$x = A^{-1}b$$\n",
    "\n",
    "With the non-invertible, there might not be an x that satisfies $Ax = b$, but the pseudoinverse can find the x that comes **closest** (by minimizing the L2 distance between Ax and b).\n",
    "\n",
    "The Moore-Penrose pseudoinverse is accessible by using `np.linalg.pinv`."
   ]
  },
  {
   "cell_type": "code",
   "execution_count": 95,
   "metadata": {},
   "outputs": [
    {
     "name": "stdout",
     "output_type": "stream",
     "text": [
      "Matrix A (bad)\n",
      "[[1 2]\n",
      " [2 4]]\n",
      "\n",
      "Target\n",
      "[ 1. -2.]\n",
      "\n",
      "Pseudoinverse\n",
      "[[ 0.04  0.08]\n",
      " [ 0.08  0.16]]\n",
      "\n",
      "x\n",
      "[-0.12 -0.24]\n",
      "\n",
      "Ax\n",
      "[-0.6 -1.2]\n"
     ]
    }
   ],
   "source": [
    "print('Matrix A (bad)')\n",
    "print(bad_matrix)\n",
    "print('\\nTarget')\n",
    "print(b)\n",
    "print('\\nPseudoinverse')\n",
    "print(np.linalg.pinv(bad_matrix))\n",
    "\n",
    "x = np.linalg.pinv(bad_matrix).dot(b)\n",
    "print('\\nx')\n",
    "print(x)\n",
    "print('\\nAx')\n",
    "print(bad_matrix.dot(x))"
   ]
  },
  {
   "cell_type": "markdown",
   "metadata": {},
   "source": [
    "## Trace and determinant\n",
    "\n",
    "The trace is simply an operator that sums the entries along the diagonals of a matrix. It has some interesting properties (eg the trace of a transpose is the same as the original trace and the order of matrix multiplication doesn't matter within the trace operator), and its main use is to simplify some math by getting rid of explicit summing in equations in some cases.\n",
    "\n",
    "It is accessible as np.trace"
   ]
  },
  {
   "cell_type": "code",
   "execution_count": 99,
   "metadata": {},
   "outputs": [
    {
     "name": "stdout",
     "output_type": "stream",
     "text": [
      "A\n",
      "[[ 1.   0.3]\n",
      " [ 0.1  1.3]]\n",
      "\n",
      "Tr(A)\n",
      "2.3\n"
     ]
    }
   ],
   "source": [
    "print('A')\n",
    "print(A)\n",
    "print('\\nTr(A)')\n",
    "print(np.trace(A))"
   ]
  },
  {
   "cell_type": "markdown",
   "metadata": {},
   "source": [
    "The determinant is explained very quickly in the book, although it has many interesting properties. Suffice it to say that it is a single number that describes a matrix, it has the following properties:\n",
    "- If det(A) is 0, then A is singular\n",
    "- It is the product of the eigenvalues\n",
    "- It can be thought of as the amount to which multiplying by the matrix streches space: if the determinant is 2, then the matrix can be thought of as doubling the volume of space. If it is one, it doesn't stretch space at all."
   ]
  },
  {
   "cell_type": "markdown",
   "metadata": {},
   "source": [
    "Finally, the chapter ends on a derivation of PCA with a single component. It is a cool example of derivation but I won't go through it here since it doesn't really introduce new material, just shows how to use what we saw above."
   ]
  },
  {
   "cell_type": "markdown",
   "metadata": {},
   "source": [
    "That's it for this week's notes. I think I'll keep translating the book's concepts into python code, it enlivens things a bit and makes them more concrete, but maybe next time's notes will be shorter: this was a lot of work!"
   ]
  },
  {
   "cell_type": "code",
   "execution_count": null,
   "metadata": {},
   "outputs": [],
   "source": []
  }
 ],
 "metadata": {
  "kernelspec": {
   "display_name": "Python 3",
   "language": "python",
   "name": "python3"
  },
  "language_info": {
   "codemirror_mode": {
    "name": "ipython",
    "version": 3
   },
   "file_extension": ".py",
   "mimetype": "text/x-python",
   "name": "python",
   "nbconvert_exporter": "python",
   "pygments_lexer": "ipython3",
   "version": "3.6.3"
  }
 },
 "nbformat": 4,
 "nbformat_minor": 2
}
